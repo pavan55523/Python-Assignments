{
  "nbformat": 4,
  "nbformat_minor": 0,
  "metadata": {
    "colab": {
      "name": "Python_assignment_3.ipynb",
      "provenance": [],
      "collapsed_sections": []
    },
    "kernelspec": {
      "name": "python3",
      "display_name": "Python 3"
    },
    "language_info": {
      "name": "python"
    }
  },
  "cells": [
    {
      "cell_type": "markdown",
      "metadata": {
        "id": "z5t3QZQROnN-"
      },
      "source": [
        "#1.1 Write a Python Program to implement your own myreduce() function which works exactly like Python's built-in function reduce()"
      ]
    },
    {
      "cell_type": "code",
      "metadata": {
        "colab": {
          "base_uri": "https://localhost:8080/"
        },
        "id": "nLct2rXpOX8t",
        "outputId": "e5dfcd74-4f05-45f9-ce1f-791a97e48bb2"
      },
      "source": [
        "#defining my own myreduce() function\n",
        "def myreduce(func,arg):\n",
        "    output = arg[0]\n",
        "    for i in range(1,len(arg)):\n",
        "      output = func(output,arg[i])\n",
        "    return output\n",
        "\n",
        "#define add function to add a list of numbers\n",
        "def add(*a):\n",
        "  s = 0\n",
        "  for i in a:\n",
        "    s += i\n",
        "  return s\n",
        "\n",
        "#passing add function and a list of numbers to myreduce function\n",
        "print(myreduce(add,[1,2,3,4]))\n",
        "print(myreduce((lambda x, y: x + y),[1,2,3,4]))"
      ],
      "execution_count": 1,
      "outputs": [
        {
          "output_type": "stream",
          "text": [
            "10\n",
            "10\n"
          ],
          "name": "stdout"
        }
      ]
    },
    {
      "cell_type": "markdown",
      "metadata": {
        "id": "aKfwJfbGRrSN"
      },
      "source": [
        "#1.2 Write a Python program to implement your own myfilter() function which works exactly like Python's built-in function filter()"
      ]
    },
    {
      "cell_type": "code",
      "metadata": {
        "colab": {
          "base_uri": "https://localhost:8080/"
        },
        "id": "ClwPxquQRtL2",
        "outputId": "7c18ca45-f05e-4e9d-ef47-de1f046d364c"
      },
      "source": [
        "#defining my own filter function\n",
        "def myfilter(func , args):\n",
        "  output_list = []\n",
        "  for i in args:\n",
        "    if func(i):\n",
        "      output_list.append(i)\n",
        "  return output_list\n",
        "\n",
        "#calling myfilter function\n",
        "print(myfilter((lambda x: x>0),[-1,-2,0,1,2]))"
      ],
      "execution_count": 2,
      "outputs": [
        {
          "output_type": "stream",
          "text": [
            "[1, 2]\n"
          ],
          "name": "stdout"
        }
      ]
    },
    {
      "cell_type": "markdown",
      "metadata": {
        "id": "d3WnV_scVhEs"
      },
      "source": [
        "#2. Implement List comprehensions to produce the following lists. "
      ]
    },
    {
      "cell_type": "markdown",
      "metadata": {
        "id": "Tk5kKeT8VmRr"
      },
      "source": [
        "#a) ['x', 'xx', 'xxx', 'xxxx', 'y', 'yy', 'yyy', 'yyyy', 'z', 'zz', 'zzz', 'zzzz'] "
      ]
    },
    {
      "cell_type": "code",
      "metadata": {
        "colab": {
          "base_uri": "https://localhost:8080/"
        },
        "id": "5Tmu-OR8WEYD",
        "outputId": "26f5c338-8dae-49e8-b16c-ee2d98a600c0"
      },
      "source": [
        "input_list = ['x','y','z']\n",
        "output_list = [ele*i for ele in input_list for i in range(1,5)]\n",
        "print(output_list)"
      ],
      "execution_count": 3,
      "outputs": [
        {
          "output_type": "stream",
          "text": [
            "['x', 'xx', 'xxx', 'xxxx', 'y', 'yy', 'yyy', 'yyyy', 'z', 'zz', 'zzz', 'zzzz']\n"
          ],
          "name": "stdout"
        }
      ]
    },
    {
      "cell_type": "markdown",
      "metadata": {
        "id": "ZdaffPiIaY5y"
      },
      "source": [
        "#b) ['x', 'y', 'z', 'xx', 'yy', 'zz', 'xxx', 'yyy', 'zzz', 'xxxx', 'yyyy', 'zzzz'] "
      ]
    },
    {
      "cell_type": "code",
      "metadata": {
        "colab": {
          "base_uri": "https://localhost:8080/"
        },
        "id": "SAlOLG0IacxO",
        "outputId": "ee5b63a8-a514-4e8e-dfcb-2c0209464994"
      },
      "source": [
        "input_list = ['x','y','z']\n",
        "output_list = [ele*i for i in range(1,5) for ele in input_list]\n",
        "print(output_list)"
      ],
      "execution_count": 4,
      "outputs": [
        {
          "output_type": "stream",
          "text": [
            "['x', 'y', 'z', 'xx', 'yy', 'zz', 'xxx', 'yyy', 'zzz', 'xxxx', 'yyyy', 'zzzz']\n"
          ],
          "name": "stdout"
        }
      ]
    },
    {
      "cell_type": "markdown",
      "metadata": {
        "id": "kc4lKJrvakem"
      },
      "source": [
        "#c) [[2], [3], [4], [3], [4], [5], [4], [5], [6]] "
      ]
    },
    {
      "cell_type": "code",
      "metadata": {
        "colab": {
          "base_uri": "https://localhost:8080/"
        },
        "id": "giJdS0r1dECw",
        "outputId": "e5f1f3ac-6b17-4554-cca9-27f745e04681"
      },
      "source": [
        "output_list = [[x+y] for x in range(2,5) for y in range(3)]\n",
        "print(output_list)"
      ],
      "execution_count": 5,
      "outputs": [
        {
          "output_type": "stream",
          "text": [
            "[[2], [3], [4], [3], [4], [5], [4], [5], [6]]\n"
          ],
          "name": "stdout"
        }
      ]
    },
    {
      "cell_type": "markdown",
      "metadata": {
        "id": "aDtPurMSmq-q"
      },
      "source": [
        "#d) [[2, 3, 4, 5], [3, 4, 5, 6],[4, 5, 6, 7], [5, 6, 7, 8]]"
      ]
    },
    {
      "cell_type": "code",
      "metadata": {
        "colab": {
          "base_uri": "https://localhost:8080/"
        },
        "id": "J963FSQWmueO",
        "outputId": "b89994dc-7ad4-44bd-88cd-6e9242b775ec"
      },
      "source": [
        "counter=0\n",
        "input_list = list(range(2,9))\n",
        "output_list = [input_list[counter+i:counter+i+4:] for i in range(4)]\n",
        "print(output_list)"
      ],
      "execution_count": 6,
      "outputs": [
        {
          "output_type": "stream",
          "text": [
            "[[2, 3, 4, 5], [3, 4, 5, 6], [4, 5, 6, 7], [5, 6, 7, 8]]\n"
          ],
          "name": "stdout"
        }
      ]
    },
    {
      "cell_type": "markdown",
      "metadata": {
        "id": "8wzu-_8xgd85"
      },
      "source": [
        "#e) [(1, 1), (2, 1), (3, 1), (1, 2), (2, 2), (3, 2), (1, 3), (2, 3), (3, 3)]"
      ]
    },
    {
      "cell_type": "code",
      "metadata": {
        "colab": {
          "base_uri": "https://localhost:8080/"
        },
        "id": "4x-SG2B7gf87",
        "outputId": "60b89eaa-7ab4-4fee-c3e2-123d3c40f516"
      },
      "source": [
        "output_list = [(j,i) for i in range(1,4) for j in range(1,4)]\n",
        "print(output_list)"
      ],
      "execution_count": 7,
      "outputs": [
        {
          "output_type": "stream",
          "text": [
            "[(1, 1), (2, 1), (3, 1), (1, 2), (2, 2), (3, 2), (1, 3), (2, 3), (3, 3)]\n"
          ],
          "name": "stdout"
        }
      ]
    }
  ]
}