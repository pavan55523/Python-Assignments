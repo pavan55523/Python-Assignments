{
  "nbformat": 4,
  "nbformat_minor": 0,
  "metadata": {
    "colab": {
      "name": "Python-Assignment-2.ipynb",
      "provenance": []
    },
    "kernelspec": {
      "name": "python3",
      "display_name": "Python 3"
    },
    "language_info": {
      "name": "python"
    }
  },
  "cells": [
    {
      "cell_type": "markdown",
      "metadata": {
        "id": "96CeqvnAcNk5"
      },
      "source": [
        "1. Create the below pattern using nested for loop in Python.\n",
        "\n",
        "  n=5\n",
        "\n",
        "```\n",
        "  *  \n",
        "  * *  \n",
        "  * * *  \n",
        "  * * * *  \n",
        "  * * * * *  \n",
        "  * * * *  \n",
        "  * * *  \n",
        "  * *  \n",
        "  *  \n",
        "```\n",
        "\n",
        " "
      ]
    },
    {
      "cell_type": "code",
      "metadata": {
        "colab": {
          "base_uri": "https://localhost:8080/"
        },
        "id": "mn3NFlSbclyh",
        "outputId": "a1a9f3ac-7f44-4f86-aa13-d48a1412d4ef"
      },
      "source": [
        "n = int(input(\"enter number: \")) #n=5\n",
        "for i in range(2*n-1):\n",
        "  if i < 2*n//2:\n",
        "    for j in range(i+1):\n",
        "      print(\"*\",end=\" \")\n",
        "  else:\n",
        "    for j in range(2*n-1-i):\n",
        "      print(\"*\",end=\" \")\n",
        "  print(\" \")\n"
      ],
      "execution_count": 1,
      "outputs": [
        {
          "output_type": "stream",
          "text": [
            "enter number: 5\n",
            "*  \n",
            "* *  \n",
            "* * *  \n",
            "* * * *  \n",
            "* * * * *  \n",
            "* * * *  \n",
            "* * *  \n",
            "* *  \n",
            "*  \n"
          ],
          "name": "stdout"
        }
      ]
    },
    {
      "cell_type": "markdown",
      "metadata": {
        "id": "BJ8cktN7e6vj"
      },
      "source": [
        "2. Write a Python program to reverse a word after accepting the input from the user\n",
        "\n",
        "  **Sample Output:**\n",
        "\n",
        "  Input word: ineuron\n",
        "\n",
        "  Output: norueni"
      ]
    },
    {
      "cell_type": "code",
      "metadata": {
        "colab": {
          "base_uri": "https://localhost:8080/"
        },
        "id": "cjddnIYGfgv3",
        "outputId": "988f99b2-6e0c-46d1-e5c6-73a8cad6d928"
      },
      "source": [
        "input_word = input(\"enter a word: \")\n",
        "print(\"{}\".format(input_word[::-1]))"
      ],
      "execution_count": 2,
      "outputs": [
        {
          "output_type": "stream",
          "text": [
            "enter a word: ineuron\n",
            "norueni\n"
          ],
          "name": "stdout"
        }
      ]
    }
  ]
}