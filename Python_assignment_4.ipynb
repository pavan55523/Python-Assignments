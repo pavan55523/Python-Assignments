{
  "nbformat": 4,
  "nbformat_minor": 0,
  "metadata": {
    "colab": {
      "name": "Python_assignment_4.ipynb",
      "provenance": []
    },
    "kernelspec": {
      "name": "python3",
      "display_name": "Python 3"
    },
    "language_info": {
      "name": "python"
    }
  },
  "cells": [
    {
      "cell_type": "markdown",
      "metadata": {
        "id": "JbTE2QYUPPJb"
      },
      "source": [
        "1.1 Write a Python Program(with class concepts) to find the area of the triangle using the below\n",
        "formula.\n",
        "area = (s*(s-a)*(s-b)*(s-c)) *** 0.5\n",
        "\n",
        "Function to take the length of the sides of triangle from user should be defined in the parent\n",
        "class and function to calculate the area should be defined in subclass."
      ]
    },
    {
      "cell_type": "code",
      "metadata": {
        "colab": {
          "base_uri": "https://localhost:8080/"
        },
        "id": "cuh2IPkRPLQA",
        "outputId": "f60a5309-945a-4be2-a21d-cb355de6db50"
      },
      "source": [
        "class Parent:\n",
        "  def take_input(self):\n",
        "    self.a = float(input(\"enter side1: \"))\n",
        "    self.b = float(input(\"enter side2: \"))\n",
        "    self.c = float(input(\"enter side3: \"))\n",
        "class Child(Parent):\n",
        "  def __init__(self):\n",
        "        Parent.__init__(self)\n",
        "        Parent.take_input(self)\n",
        "  def calc_area(self):\n",
        "    a = self.a\n",
        "    b = self.b\n",
        "    c = self.c\n",
        "    s = (a+b+c)/2\n",
        "    area = float((s*(s-a)*(s-b)*(s-c))**0.5)\n",
        "    return area\n",
        "obj = Child()\n",
        "print(obj.calc_area())"
      ],
      "execution_count": 1,
      "outputs": [
        {
          "output_type": "stream",
          "text": [
            "enter side1: 3\n",
            "enter side2: 4\n",
            "enter side3: 5\n",
            "6.0\n"
          ],
          "name": "stdout"
        }
      ]
    },
    {
      "cell_type": "markdown",
      "metadata": {
        "id": "m5LiVE9AU33d"
      },
      "source": [
        "1.2 Write a function filter_long_words() that takes a list of words and an integer n and returns\n",
        "the list of words that are longer than n."
      ]
    },
    {
      "cell_type": "code",
      "metadata": {
        "colab": {
          "base_uri": "https://localhost:8080/"
        },
        "id": "6OmYRpITTxbh",
        "outputId": "7cf79496-713e-4ad6-f1ae-6ee40111411d"
      },
      "source": [
        "def filter_long_words(lst,n):\n",
        "  out=[]\n",
        "  for i in lst:\n",
        "    if len(i)>n:\n",
        "      out.append(i)\n",
        "  return out\n",
        "inp = [\"hai\",\"hello\",\"how\",\"are\",\"you?\"]\n",
        "print(filter_long_words(inp,3))"
      ],
      "execution_count": 2,
      "outputs": [
        {
          "output_type": "stream",
          "text": [
            "['hello', 'you?']\n"
          ],
          "name": "stdout"
        }
      ]
    },
    {
      "cell_type": "markdown",
      "metadata": {
        "id": "-VRmXsMHV0Yk"
      },
      "source": [
        "2.1 Write a Python program using function concept that maps list of words into a list of integers\n",
        "representing the lengths of the corresponding words.\n",
        "\n",
        "Hint: If a list [ ab,cde,erty] is passed on to the python function output should come as [2,3,4]\n",
        "\n",
        "Here 2,3 and 4 are the lengths of the words in the list."
      ]
    },
    {
      "cell_type": "code",
      "metadata": {
        "colab": {
          "base_uri": "https://localhost:8080/"
        },
        "id": "MjcZQXtwV-pX",
        "outputId": "d9b35e91-46d8-4685-a50a-0e6717f3bc1d"
      },
      "source": [
        "def give_lengths(lst):\n",
        "  out = []\n",
        "  for i in lst:\n",
        "    out.append(len(i))\n",
        "  return out\n",
        "inp = [\"hai\",\"hello\",\"how\",\"are\",\"you?\"]\n",
        "print(give_lengths(inp))"
      ],
      "execution_count": 3,
      "outputs": [
        {
          "output_type": "stream",
          "text": [
            "[3, 5, 3, 3, 4]\n"
          ],
          "name": "stdout"
        }
      ]
    },
    {
      "cell_type": "markdown",
      "metadata": {
        "id": "cw4e-BBHW3RD"
      },
      "source": [
        "2.2 Write a Python function which takes a character (i.e. a string of length 1) and returns True if\n",
        "it is a vowel, False otherwise."
      ]
    },
    {
      "cell_type": "code",
      "metadata": {
        "colab": {
          "base_uri": "https://localhost:8080/"
        },
        "id": "_F3cz7yXW5aj",
        "outputId": "4476869e-cc8d-4d7a-c8e9-b3b6d5f883b4"
      },
      "source": [
        "def check_vowel(alphabet):\n",
        "  if alphabet in ['a','e','i','o','u','A','E','I','O','U']:\n",
        "    return True\n",
        "  return False\n",
        "print(check_vowel('b'))"
      ],
      "execution_count": 4,
      "outputs": [
        {
          "output_type": "stream",
          "text": [
            "False\n"
          ],
          "name": "stdout"
        }
      ]
    }
  ]
}