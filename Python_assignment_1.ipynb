{
  "nbformat": 4,
  "nbformat_minor": 0,
  "metadata": {
    "colab": {
      "name": "Python-assignment-1.ipynb",
      "provenance": []
    },
    "kernelspec": {
      "name": "python3",
      "display_name": "Python 3"
    },
    "language_info": {
      "name": "python"
    }
  },
  "cells": [
    {
      "cell_type": "markdown",
      "metadata": {
        "id": "DdyGPvr88UgZ"
      },
      "source": [
        "1. Write a program which will find all such numbers which are \n",
        "    \n",
        "    a)divisible by 7 but are not a multiple of 5\n",
        "\n",
        "    b)between 2000 and 3200(both included)\n",
        "    \n",
        "    The numbers obtained should be printed in a comma-separated sequence on a single line.\n"
      ]
    },
    {
      "cell_type": "code",
      "metadata": {
        "colab": {
          "base_uri": "https://localhost:8080/"
        },
        "id": "rpSx2IuK8wno",
        "outputId": "5c0a84e8-e93a-428e-a95c-593aaa8aefac"
      },
      "source": [
        "for num in range(2000,3201):\n",
        "  if num%7==0 and num%5!=0:\n",
        "    print(num,end=\",\")"
      ],
      "execution_count": 1,
      "outputs": [
        {
          "output_type": "stream",
          "text": [
            "2002,2009,2016,2023,2037,2044,2051,2058,2072,2079,2086,2093,2107,2114,2121,2128,2142,2149,2156,2163,2177,2184,2191,2198,2212,2219,2226,2233,2247,2254,2261,2268,2282,2289,2296,2303,2317,2324,2331,2338,2352,2359,2366,2373,2387,2394,2401,2408,2422,2429,2436,2443,2457,2464,2471,2478,2492,2499,2506,2513,2527,2534,2541,2548,2562,2569,2576,2583,2597,2604,2611,2618,2632,2639,2646,2653,2667,2674,2681,2688,2702,2709,2716,2723,2737,2744,2751,2758,2772,2779,2786,2793,2807,2814,2821,2828,2842,2849,2856,2863,2877,2884,2891,2898,2912,2919,2926,2933,2947,2954,2961,2968,2982,2989,2996,3003,3017,3024,3031,3038,3052,3059,3066,3073,3087,3094,3101,3108,3122,3129,3136,3143,3157,3164,3171,3178,3192,3199,"
          ],
          "name": "stdout"
        }
      ]
    },
    {
      "cell_type": "markdown",
      "metadata": {
        "id": "lk4vfNXOCsi4"
      },
      "source": [
        "2. Write a Python program to\n",
        "\n",
        " a)accept the user's first and last name and \n",
        " \n",
        " b)then getting them printed in the the reverse order with a space between first name and last name."
      ]
    },
    {
      "cell_type": "code",
      "metadata": {
        "colab": {
          "base_uri": "https://localhost:8080/"
        },
        "id": "Qy9kMcfJDO6S",
        "outputId": "71c035a1-4e62-4862-8639-4535061647be"
      },
      "source": [
        "first_name,last_name =input(\"enter first and last name seperated with space\").split(\" \")\n",
        "print(\"{} {}\".format(first_name[::-1],last_name[::-1]))"
      ],
      "execution_count": 2,
      "outputs": [
        {
          "output_type": "stream",
          "text": [
            "enter first and last name seperated with spaceHarry Potter\n",
            "yrraH rettoP\n"
          ],
          "name": "stdout"
        }
      ]
    },
    {
      "cell_type": "markdown",
      "metadata": {
        "id": "SxEZyhZ9FzfB"
      },
      "source": [
        "3. Write a Python program to find the volume of a sphere with diameter 12 cm.\n",
        "\n",
        "    Formula: V=4/3 * π * r 3\n"
      ]
    },
    {
      "cell_type": "code",
      "metadata": {
        "colab": {
          "base_uri": "https://localhost:8080/"
        },
        "id": "OO4jIa1lF4Fa",
        "outputId": "062950c7-1625-4baf-d611-170cf778e674"
      },
      "source": [
        "diameter = 12\n",
        "radius = diameter/2\n",
        "pi=22/7\n",
        "volume = (4/3)*pi*radius**3\n",
        "print(\"Volume of Sphere with diameter 12cms is {}\".format(volume))"
      ],
      "execution_count": 3,
      "outputs": [
        {
          "output_type": "stream",
          "text": [
            "Volume of Sphere with diameter 12cms is 905.142857142857\n"
          ],
          "name": "stdout"
        }
      ]
    }
  ]
}