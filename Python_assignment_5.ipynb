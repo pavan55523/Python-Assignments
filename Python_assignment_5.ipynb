{
  "nbformat": 4,
  "nbformat_minor": 0,
  "metadata": {
    "colab": {
      "name": "Python_assignment_5.ipynb",
      "provenance": []
    },
    "kernelspec": {
      "name": "python3",
      "display_name": "Python 3"
    },
    "language_info": {
      "name": "python"
    }
  },
  "cells": [
    {
      "cell_type": "markdown",
      "metadata": {
        "id": "kTdTpc4NSF1B"
      },
      "source": [
        "# Python Assignment 5\n",
        "\n",
        "1. Write a function to compute 5/0 and use try/except to catch the exceptions."
      ]
    },
    {
      "cell_type": "code",
      "metadata": {
        "colab": {
          "base_uri": "https://localhost:8080/"
        },
        "id": "j5Ix8fc1SDKg",
        "outputId": "f435cd25-467c-4fa4-9578-9c9410388234"
      },
      "source": [
        "def func(): \n",
        "  try:\n",
        "    result = 5 / 0\n",
        "    print(\"result is :\", result)\n",
        "  except ZeroDivisionError:\n",
        "    print(\"Sorry ! You are dividing by zero Exception occured\")\n",
        "func()"
      ],
      "execution_count": 1,
      "outputs": [
        {
          "output_type": "stream",
          "text": [
            "Sorry ! You are dividing by zero Exception occured\n"
          ],
          "name": "stdout"
        }
      ]
    },
    {
      "cell_type": "markdown",
      "metadata": {
        "id": "GauiFEFzS70Q"
      },
      "source": [
        "2. Implement a Python program to generate all sentences where\n",
        "\n",
        " subject is in [\"Americans\", \"Indians\"] and \n",
        " \n",
        " verb is in [\"Play\", \"watch\"] and\n",
        " \n",
        " the object is in [\"Baseball\",\"cricket\"]."
      ]
    },
    {
      "cell_type": "code",
      "metadata": {
        "colab": {
          "base_uri": "https://localhost:8080/"
        },
        "id": "0xDaM24iT4UK",
        "outputId": "16a42304-b37e-4273-8216-df10061b0620"
      },
      "source": [
        "subject = [\"Americans\",\"Indians\"]\n",
        "verb = [\"play\",\"watch\"]\n",
        "Object = [\"Baseball\",\"Cricket\"]\n",
        "output_list = [str(i+\" \"+j+\" \"+k+\".\") for i in subject for j in verb for k in Object]\n",
        "for i in output_list:\n",
        "  print(i)"
      ],
      "execution_count": 2,
      "outputs": [
        {
          "output_type": "stream",
          "text": [
            "Americans play Baseball.\n",
            "Americans play Cricket.\n",
            "Americans watch Baseball.\n",
            "Americans watch Cricket.\n",
            "Indians play Baseball.\n",
            "Indians play Cricket.\n",
            "Indians watch Baseball.\n",
            "Indians watch Cricket.\n"
          ],
          "name": "stdout"
        }
      ]
    }
  ]
}